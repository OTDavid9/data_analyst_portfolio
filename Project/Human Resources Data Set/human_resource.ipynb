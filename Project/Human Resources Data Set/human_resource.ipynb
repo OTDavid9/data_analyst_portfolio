{
 "cells": [
  {
   "cell_type": "markdown",
   "id": "73d83b42",
   "metadata": {},
   "source": [
    "<style>\n",
    "h1 {background-color: red;}\n",
    "    p {color: red}\n",
    "\n",
    "</style>\n",
    "<h1 style=\"text-align:center;\n",
    "           font-size: 2.5em;\n",
    "           text-transform: uppercase;\n",
    "           color: navy;\"> Engineer T and Sons Limited </h1>\n",
    "           \n",
    "<hr>\n",
    "\n",
    "<img  style=\"width:100%\" src=\"engineer_t.jpg\" alt=\"Engineer T and Sons Limited\" />\n",
    "\n",
    "<p style=\"text-align:right;\n",
    "           font-size: 1.2em;\n",
    "           color: navy;\">Presented By: Obidokun Tunji D </p>\n",
    "           \n",
    " <p style=\"text-align:right;\n",
    "           font-size: 1.2em;\n",
    "           color: navy;\">Date: 25/02/2023 </p>\n",
    "          \n",
    " <p style=\"text-align:center;\n",
    "           font-size: 1.0em;\n",
    "           color: navy;\">&copy 2023 | Engineer T and Sons Limited | Data Analytics Report  </p>\n",
    " <hr>"
   ]
  },
  {
   "cell_type": "markdown",
   "id": "f5c7cec9",
   "metadata": {},
   "source": [
    "<h1 style=\"text-align:left;\n",
    "           font-size: 1.5em;\n",
    "           text-transform: uppercase;\n",
    "           color: navy;\"> ANALYSIS REPORT </h1>\n",
    "           \n",
    "<!--  <p style=\"text-align:center;\n",
    "           font-size: 1.0em;\n",
    "           color: navy;\">&copy 2023 | Engineer T and Sons Limited | Data Analytics Report  </p> -->"
   ]
  },
  {
   "cell_type": "code",
   "execution_count": 11,
   "id": "a112d340",
   "metadata": {},
   "outputs": [],
   "source": [
    "import pandas as pd\n",
    "import numpy as np\n",
    "import matplotlib.pyplot as plt"
   ]
  },
  {
   "cell_type": "code",
   "execution_count": 7,
   "id": "fd9867da",
   "metadata": {},
   "outputs": [],
   "source": [
    "#### Reading the dataset ########\n",
    "\n",
    "#df = pd.read_csv(\"HRDataset.csv\")\n",
    "\n",
    "#df.head()\n",
    "#df.info()"
   ]
  },
  {
   "cell_type": "markdown",
   "id": "cfef7491",
   "metadata": {},
   "source": [
    "## Analysis Report"
   ]
  },
  {
   "cell_type": "markdown",
   "id": "57351036",
   "metadata": {},
   "source": [
    "### Introduction\n",
    "\n",
    "To enhance employee performance, it is necessary to comprehend the factors that influence it. In Nigeria, Engineer T and Sons Ltd is a rapidly expanding business that offers services beyond help with research and phone support engineering, content creation, and copywriting. The business wants to learn more about the behaviors of its workers as performance indicators."
   ]
  },
  {
   "cell_type": "markdown",
   "id": "8496445b",
   "metadata": {},
   "source": [
    "### Objectives\n",
    "\n",
    "This analysis report is guide with the following questions:\n",
    "\n",
    "* Is there any relationship between who a person works for and their performance score?\n",
    "* What is the overall diversity profile of the organization?\n",
    "* What are our best recruiting sources if we want to ensure a diverse organization?\n",
    "* Can we predict who is going to terminate and who isn't? What level of accuracy can we achieve on this?\n",
    "* Are there areas of the company where pay is not equitable?"
   ]
  },
  {
   "cell_type": "code",
   "execution_count": null,
   "id": "3f50813b",
   "metadata": {},
   "outputs": [],
   "source": []
  }
 ],
 "metadata": {
  "kernelspec": {
   "display_name": "Python 3 (ipykernel)",
   "language": "python",
   "name": "python3"
  },
  "language_info": {
   "codemirror_mode": {
    "name": "ipython",
    "version": 3
   },
   "file_extension": ".py",
   "mimetype": "text/x-python",
   "name": "python",
   "nbconvert_exporter": "python",
   "pygments_lexer": "ipython3",
   "version": "3.9.7"
  }
 },
 "nbformat": 4,
 "nbformat_minor": 5
}
